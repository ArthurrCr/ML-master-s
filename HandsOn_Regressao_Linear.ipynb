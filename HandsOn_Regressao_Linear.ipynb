{
 "cells": [
  {
   "cell_type": "markdown",
   "id": "2fb95208",
   "metadata": {},
   "source": [
    "\n",
    "# Hands-on: Regressão Linear (passo a passo)\n",
    "\n",
    "> **Como usar:** em cada tópico você verá uma explicação curta com fórmulas e um **exercício** logo abaixo.  \n",
    "> Nos exercícios, implemente **somente** o corpo da função (entre `def ...` e o `return`).\n",
    "> Ao final do notebook há **funções de visualização** já prontas (matplotlib) e **exemplos com dados sintéticos** para você rodar depois que terminar as funções.\n",
    "\n",
    "**Você pode usar apenas NumPy** (sem bibliotecas prontas de modelagem). Abaixo estão dicas dos métodos mais úteis.\n"
   ]
  },
  {
   "cell_type": "markdown",
   "id": "5e22ef34",
   "metadata": {},
   "source": [
    "\n",
    "## Dicas de NumPy que você pode usar\n",
    "\n",
    "- `np.array`, `np.asarray` – criar vetores/matrizes.\n",
    "- `np.mean`, `np.std`, `np.var` – estatística básica.\n",
    "- `np.sum`, `np.cumsum`, `np.prod` – somas e produtos.\n",
    "- `np.dot`, `@`, `np.matmul` – produto vetorial/matricial.\n",
    "- `np.transpose` ou `.T` – transposta.\n",
    "- `np.ones`, `np.zeros`, `np.column_stack`, `np.concatenate` – montar a matriz de projeto `X`.\n",
    "- `np.linalg.inv`, `np.linalg.pinv`, `np.linalg.solve` – resolver o sistema da **equação normal**.\n",
    "- `np.random.seed`, `np.random.randn`, `np.random.normal` – gerar dados sintéticos.\n",
    "- `np.log`, `np.sqrt`, `np.clip` – transformações úteis (ex.: Box–Cox).\n",
    "\n",
    "> **Evite** funções “de atalho” como `np.polyfit` ou bibliotecas como `scikit-learn`. A ideia é praticar as **fórmulas**.\n"
   ]
  },
  {
   "cell_type": "markdown",
   "id": "40834417",
   "metadata": {},
   "source": [
    "\n",
    "## Regressão Linear Simples — conceito e fórmulas\n",
    "\n",
    "**Modelo:**  \n",
    "$$\n",
    "y_i \\;=\\; \\beta_0 \\;+\\; \\beta_1 x_i \\;+\\; \\varepsilon_i, \\quad i=1,\\dots,n\n",
    "$$\n",
    "\n",
    "**Objetivo (Mínimos Quadrados Ordinários, OLS):** minimizar a soma dos quadrados dos **resíduos** $e_i = y_i - \\hat{y}_i$, onde $\\hat{y}_i = \\hat{\\beta}_0 + \\hat{\\beta}_1 x_i$.\n",
    "\n",
    "### Equação da reta e estimadores fechados\n",
    "Sejam as médias $\\bar{x}=\\frac{1}{n}\\sum x_i$ e $\\bar{y}=\\frac{1}{n}\\sum y_i$. Então:\n",
    "$$\n",
    "\\hat{\\beta}_1 \\;=\\; \\frac{\\sum_{i=1}^n (x_i-\\bar{x})(y_i-\\bar{y})}{\\sum_{i=1}^n (x_i-\\bar{x})^2}\n",
    "\\quad\\text{e}\\quad\n",
    "\\hat{\\beta}_0 \\;=\\; \\bar{y} - \\hat{\\beta}_1 \\bar{x}.\n",
    "$$\n",
    "\n",
    "### Função de Custo (MSE), SSE vs MSE, fator $1/n$\n",
    "- **SSE**: $\\mathrm{SSE} = \\sum_{i=1}^n (y_i - \\hat{y}_i)^2$.\n",
    "- **MSE**: $\\mathrm{MSE} = \\frac{1}{n}\\sum_{i=1}^n (y_i - \\hat{y}_i)^2$.\n",
    "- Colocar o fator $\\tfrac{1}{n}$ só **reescala** a função; o mínimo (os $\\hat{\\beta}$) é o mesmo.\n",
    "- **Por que elevar ao quadrado?** Para penalizar erros grandes, manter a função **diferenciável** e evitar cancelamentos de sinais.\n",
    "\n",
    "> **Resíduo** $e_i$ é a diferença entre o observado e o ajustado. Em OLS sob hipóteses clássicas, os resíduos têm média aproximadamente zero e não devem exibir padrão sistemático ao longo de $x$.\n"
   ]
  },
  {
   "cell_type": "markdown",
   "id": "b091fb63",
   "metadata": {},
   "source": [
    "\n",
    "### Exercício 1 — Estime $\\hat{\\beta}_0$ e $\\hat{\\beta}_1$ e faça previsões\n",
    "\n",
    "Implemente **duas** funções:\n",
    "\n",
    "1. `fit_simple_linear_regression(x, y) -> (beta0, beta1)`  \n",
    "   - Use as fórmulas fechadas acima (**sem** `np.polyfit`).\n",
    "   - Dicas: `np.mean`, `np.sum`, `np.dot`.\n",
    "\n",
    "2. `predict_simple(x, beta0, beta1) -> y_hat`  \n",
    "   - Retorne o vetor de predições $\\hat{y} = \\beta_0 + \\beta_1 x$.\n",
    "\n",
    "> Preencha somente o corpo das funções (entre `def` e `return`).\n"
   ]
  },
  {
   "cell_type": "code",
   "execution_count": null,
   "id": "7df127a2",
   "metadata": {},
   "outputs": [],
   "source": [
    "\n",
    "import numpy as np\n",
    "\n",
    "def fit_simple_linear_regression(x, y):\n",
    "    # Parâmetros\n",
    "    # ----------\n",
    "    # x : array-like, shape (n,)\n",
    "    # y : array-like, shape (n,)\n",
    "    #\n",
    "    # Retorna\n",
    "    # -------\n",
    "    # (beta0, beta1) : tuple of floats\n",
    "\n",
    "    # TODO: implemente apenas o corpo e o return\n",
    "    # Dicas: use np.mean, np.sum e/ou np.dot para calcular as fórmulas fechadas.\n",
    "    # NÃO use np.polyfit.\n",
    "\n",
    "\n",
    "    return None\n",
    "\n",
    "\n",
    "def predict_simple(x, beta0, beta1):\n",
    "    # Retorna\n",
    "    # -------\n",
    "    # y_hat : array-like, shape (n,)\n",
    "    # TODO: implemente apenas o corpo e o return\n",
    "\n",
    "    return None\n"
   ]
  },
  {
   "cell_type": "markdown",
   "id": "299a64e3",
   "metadata": {},
   "source": [
    "Execute a célula abaixo para verificar se o código está correto (você verá erros até completar as funções)."
   ]
  },
  {
   "cell_type": "code",
   "execution_count": 9,
   "id": "948b56bb",
   "metadata": {},
   "outputs": [
    {
     "name": "stdout",
     "output_type": "stream",
     "text": [
      "Beta0: 2.2\n",
      "Beta1: 0.6\n",
      "Previsões: [2.8 3.4 4.  4.6 5.2]\n",
      "✅ Teste passou!\n"
     ]
    }
   ],
   "source": [
    "# Função de teste\n",
    "def test_regressao():\n",
    "    # Dados simples\n",
    "    x = np.array([1, 2, 3, 4, 5])\n",
    "    y = np.array([2, 4, 5, 4, 5])\n",
    "\n",
    "    beta0, beta1 = fit_simple_linear_regression(x, y)\n",
    "    y_hat = predict_simple(x, beta0, beta1)\n",
    "\n",
    "    print(\"Beta0:\", beta0)\n",
    "    print(\"Beta1:\", beta1)\n",
    "    print(\"Previsões:\", y_hat)\n",
    "\n",
    "    # Verificação aproximada (tolerância por arredondamento)\n",
    "    assert np.isclose(beta0, 2.2, atol=1e-1)\n",
    "    assert np.isclose(beta1, 0.6, atol=1e-1)\n",
    "    print(\"✅ Teste passou!\")\n",
    "\n",
    "# Rode isso no notebook\n",
    "test_regressao()"
   ]
  },
  {
   "cell_type": "markdown",
   "id": "e4ae0e87",
   "metadata": {},
   "source": [
    "\n",
    "## Gradiente Descendente — ideia, fórmulas e boas práticas\n",
    "\n",
    "Para a regressão simples, a **função de custo** é\n",
    "$$\n",
    "J(\\beta_0,\\beta_1) = \\frac{1}{n}\\sum_{i=1}^n \\big(y_i - (\\beta_0 + \\beta_1 x_i)\\big)^2.\n",
    "$$\n",
    "\n",
    "Suas **derivadas parciais** são:\n",
    "$$\n",
    "\\frac{\\partial J}{\\partial \\beta_0} = -\\frac{2}{n}\\sum_{i=1}^n \\big(y_i - \\beta_0 - \\beta_1 x_i\\big),\n",
    "\\qquad\n",
    "\\frac{\\partial J}{\\partial \\beta_1} = -\\frac{2}{n}\\sum_{i=1}^n x_i \\big(y_i - \\beta_0 - \\beta_1 x_i\\big).\n",
    "$$\n",
    "\n",
    "**Atualizações** (com taxa de aprendizado $\\alpha$):\n",
    "$$\n",
    "\\beta_0 \\leftarrow \\beta_0 - \\alpha \\,\\frac{\\partial J}{\\partial \\beta_0},\n",
    "\\qquad\n",
    "\\beta_1 \\leftarrow \\beta_1 - \\alpha \\,\\frac{\\partial J}{\\partial \\beta_1}.\n",
    "$$\n",
    "\n",
    "### Intuições e boas práticas\n",
    "- **Padronize**/centralize $x$ quando necessário para facilitar a convergência.\n",
    "- Use histórico de custo para verificar se está diminuindo.\n",
    "- Ajuste $\\alpha$: muito grande diverge; muito pequeno demora a convergir.\n",
    "- Prefira operações **vetorizadas** em NumPy (evite `for` desnecessário).\n"
   ]
  },
  {
   "cell_type": "markdown",
   "id": "88ca99fe",
   "metadata": {},
   "source": [
    "\n",
    "### Exercício 2 — Gradiente Descendente na regressão simples\n",
    "\n",
    "Implemente:\n",
    "\n",
    "`gradient_descent_simple(x, y, alpha=0.01, n_iters=1000) -> (beta0, beta1, history)`\n",
    "\n",
    "- Inicialize $\\beta_0=\\beta_1=0$ (ou escolha outra estratégia simples).\n",
    "- A cada iteração, atualize usando as fórmulas acima.\n",
    "- `history` pode ser uma lista com o mse de cada iteração (opcional, mas útil para diagnóstico).\n",
    "\n",
    "Dicas: use operações vetorizadas (`y - (beta0 + beta1*x)`), `np.mean` para MSE.\n"
   ]
  },
  {
   "cell_type": "code",
   "execution_count": null,
   "id": "fafaa114",
   "metadata": {},
   "outputs": [],
   "source": [
    "\n",
    "def gradient_descent_simple(x, y, alpha=0.01, n_iters=1000):\n",
    "    # Retorna\n",
    "    # -------\n",
    "    # beta0, beta1, history\n",
    "    # TODO: implemente apenas o corpo e o return\n",
    "    # Dicas: vetorize os cálculos; use np.mean para a MSE do histórico.\n",
    "\n",
    "    return None\n"
   ]
  },
  {
   "cell_type": "markdown",
   "id": "40dafbe3",
   "metadata": {},
   "source": [
    "Execute a célula abaixo para verificar se o código está correto (você verá erros até completar as funções)."
   ]
  },
  {
   "cell_type": "code",
   "execution_count": null,
   "id": "d1a448ed",
   "metadata": {},
   "outputs": [
    {
     "name": "stdout",
     "output_type": "stream",
     "text": [
      "Beta0: 2.136116825825789\n",
      "Beta1: 0.6176946148762643\n",
      "Último MSE: 0.01079932954541798\n",
      "✅ Teste passou!\n"
     ]
    }
   ],
   "source": [
    "# Função de teste\n",
    "def test_gradient_descent():\n",
    "    # Dados simples\n",
    "    x = np.array([1, 2, 3, 4, 5])\n",
    "    y = np.array([2, 4, 5, 4, 5])\n",
    "    \n",
    "    b0, b1, history = gradient_descent_simple(x, y, alpha=0.01, n_iters=5000)\n",
    "    \n",
    "    print(\"Beta0:\", b0)\n",
    "    print(\"Beta1:\", b1)\n",
    "    print(\"Último MSE:\", history[-1])\n",
    "    \n",
    "    # Valores de referência (OLS: ~2.2 e ~0.6)\n",
    "    assert np.isclose(b0, 2.2, atol=0.2)\n",
    "    assert np.isclose(b1, 0.6, atol=0.2)\n",
    "    print(\"✅ Teste passou!\")\n",
    "\n",
    "\n",
    "# Rode no notebook\n",
    "test_gradient_descent()"
   ]
  },
  {
   "cell_type": "markdown",
   "id": "35377c80",
   "metadata": {},
   "source": [
    "\n",
    "## Forma Vetorial (equação normal)\n",
    "\n",
    "No caso geral, escrevemos o modelo como $\\mathbf{y} = \\mathbf{X}\\boldsymbol{\\beta} + \\boldsymbol{\\varepsilon}$, com:\n",
    "- $\\mathbf{y} \\in \\mathbb{R}^{n \\times 1}$,\n",
    "- $\\mathbf{X} \\in \\mathbb{R}^{n \\times p}$ (inclui **coluna de 1s** para o intercepto),\n",
    "- $\\boldsymbol{\\beta} \\in \\mathbb{R}^{p \\times 1}$.\n",
    "\n",
    "A solução de Mínimos Quadrados é a **equação normal**:\n",
    "$$\n",
    "\\hat{\\boldsymbol{\\beta}} \\;=\\; (\\mathbf{X}^\\top \\mathbf{X})^{-1} \\mathbf{X}^\\top \\mathbf{y}.\n",
    "$$\n",
    "\n",
    "> Na prática, prefira `np.linalg.solve(X.T @ X, X.T @ y)` (mais estável) ou `np.linalg.pinv` quando houver multicolinearidade.\n"
   ]
  },
  {
   "cell_type": "markdown",
   "id": "a0aaac44",
   "metadata": {},
   "source": [
    "\n",
    "### Exercício 3 — Equação normal em NumPy\n",
    "\n",
    "Implemente:\n",
    "\n",
    "`normal_equation(X, y, use_pinv=False) -> beta`\n",
    "\n",
    "- Você precisa adicionar em `X` a coluna de 1s (intercepto), dica: `np.ones`, `np.column_stack` ou `np.concatenate`.\n",
    "- Se `use_pinv=False`, você pode usar `np.linalg.solve` ou `np.linalg.inv`.\n",
    "- Se `use_pinv=True`, use `np.linalg.pinv`.\n",
    "\n",
    "Dicas: `X.T @ X`, `X.T @ y`.\n"
   ]
  },
  {
   "cell_type": "code",
   "execution_count": null,
   "id": "60020807",
   "metadata": {},
   "outputs": [],
   "source": [
    "\n",
    "def normal_equation(X, y, use_pinv=False):\n",
    "    # Parâmetros\n",
    "    # ----------\n",
    "    # X : array, shape (n, p) \n",
    "    # y : array, shape (n,)\n",
    "    # use_pinv : bool\n",
    "    #\n",
    "    # Retorna\n",
    "    # -------\n",
    "    # beta : array, shape (p,)\n",
    "    # TODO: implemente apenas o corpo e o return\n",
    "    # Dicas: X.T @ X, X.T @ y e np.linalg.solve OU np.linalg.inv OU np.linalg.pinv.\n",
    "    # Faça uma verificação para não aplicar se X ja tiver 1s na primeira coluna\n",
    "\n",
    "    return None"
   ]
  },
  {
   "cell_type": "markdown",
   "id": "ddac1439",
   "metadata": {},
   "source": [
    "Execute a célula abaixo para verificar se o código está correto (você verá erros até completar as funções)."
   ]
  },
  {
   "cell_type": "code",
   "execution_count": 42,
   "id": "c8dcd941",
   "metadata": {},
   "outputs": [
    {
     "name": "stdout",
     "output_type": "stream",
     "text": [
      "Beta (solve): [2.2 0.6]\n",
      "Beta (pinv) : [2.2 0.6]\n",
      "✅ Teste passou!\n"
     ]
    }
   ],
   "source": [
    "def test_normal_equation():\n",
    "    # Dados simples (1 feature)\n",
    "    x = np.array([1, 2, 3, 4, 5]).reshape(-1, 1)\n",
    "    y = np.array([2, 4, 5, 4, 5])\n",
    "\n",
    "    beta_closed = normal_equation(x, y, use_pinv=False)\n",
    "    beta_pinv   = normal_equation(x, y, use_pinv=True)\n",
    "\n",
    "    print(\"Beta (solve):\", beta_closed)\n",
    "    print(\"Beta (pinv) :\", beta_pinv)\n",
    "\n",
    "    # OLS esperado: [2.2, 0.6]\n",
    "    assert np.allclose(beta_closed, [2.2, 0.6], atol=1e-1)\n",
    "    assert np.allclose(beta_pinv,   [2.2, 0.6], atol=1e-1)\n",
    "    print(\"✅ Teste passou!\")\n",
    "\n",
    "\n",
    "# Rode no notebook\n",
    "test_normal_equation()"
   ]
  },
  {
   "cell_type": "markdown",
   "id": "e7fb2981",
   "metadata": {},
   "source": [
    "\n",
    "## Box–Cox — transformação\n",
    "\n",
    "A transformação Box–Cox (para $y>0$) é:\n",
    "$$\n",
    "y^{(\\lambda)} \\;=\\;\n",
    "\\begin{cases}\n",
    "\\dfrac{y^\\lambda - 1}{\\lambda}, & \\lambda \\neq 0,\\\\[6pt]\n",
    "\\ln(y), & \\lambda = 0.\n",
    "\\end{cases}\n",
    "$$\n",
    "\n",
    "**Objetivo:** estabilizar variância e aproximar a normalidade dos erros.\n",
    "\n",
    "### Cuidados\n",
    "- Exige **$y>0$**. Se necessário, desloque: $y' = y - \\min(y) + \\varepsilon$.\n",
    "- Interpretação dos coeficientes muda após a transformação.\n",
    "- Teste diferentes $\\lambda$ (grade simples) e avalie resíduos/MSE.\n"
   ]
  },
  {
   "cell_type": "markdown",
   "id": "70b0b300",
   "metadata": {},
   "source": [
    "\n",
    "### Exercício 4 — Transformação Box–Cox (ida e volta)\n",
    "\n",
    "Implemente duas funções:\n",
    "\n",
    "1. `boxcox_transform(y, lam) -> y_t`  \n",
    "2. `boxcox_inverse(y_t, lam) -> y_original`\n",
    "\n",
    "Dicas: use `np.log`, `np.exp`, `np.clip` (se precisar garantir positividade antes de transformar).\n"
   ]
  },
  {
   "cell_type": "code",
   "execution_count": null,
   "id": "8e536adb",
   "metadata": {},
   "outputs": [],
   "source": [
    "\n",
    "def boxcox_transform(y, lam):\n",
    "    # Aplica a transformação Box–Cox em y (assuma y>0).\n",
    "    # TODO: implemente apenas o corpo e o return\n",
    "\n",
    "    return None\n",
    "\n",
    "\n",
    "def boxcox_inverse(y_t, lam):\n",
    "    # Inverte a transformação Box–Cox.\n",
    "    # TODO: implemente apenas o corpo e o return\n",
    "\n",
    "    return None\n"
   ]
  },
  {
   "cell_type": "markdown",
   "id": "9234fa75",
   "metadata": {},
   "source": [
    "Execute a célula abaixo para verificar se o código está correto (você verá erros até completar as funções)."
   ]
  },
  {
   "cell_type": "code",
   "execution_count": 48,
   "id": "a62d541b",
   "metadata": {},
   "outputs": [
    {
     "name": "stdout",
     "output_type": "stream",
     "text": [
      "✅ Teste Box–Cox passou para todos os casos!\n"
     ]
    }
   ],
   "source": [
    "def test_boxcox():\n",
    "    # y > 0 conforme requisito\n",
    "    y = np.array([0.5, 1.2, 2.0, 3.5, 5.0])\n",
    "\n",
    "    # Vários lambdas, incluindo 0 e negativos\n",
    "    lambdas = [0.0, 1e-8, 0.5, 1.0, 2.0, -0.5, -1.0]\n",
    "\n",
    "    for lam in lambdas:\n",
    "        y_t = boxcox_transform(y, lam)\n",
    "        y_back = boxcox_inverse(y_t, lam)\n",
    "\n",
    "        # 1) Inversão deve recuperar o original (tolerância numérica)\n",
    "        assert np.allclose(y_back, y, atol=1e-10), f\"inverse failed for λ={lam}\"\n",
    "\n",
    "        # 2) Monotonicidade (Box–Cox é estritamente crescente para y>0)\n",
    "        diffs = np.diff(y_t)\n",
    "        assert np.all(diffs > 0), f\"not monotonic increasing for λ={lam}\"\n",
    "\n",
    "    # 3) Casos especiais de sanidade\n",
    "    # λ = 0 -> log\n",
    "    y_t0 = boxcox_transform(y, 0.0)\n",
    "    assert np.allclose(y_t0, np.log(y), atol=1e-12)\n",
    "    assert np.allclose(boxcox_inverse(y_t0, 0.0), y, atol=1e-12)\n",
    "\n",
    "    # λ = 1 -> (y - 1) e inversa (y_t + 1)\n",
    "    y_t1 = boxcox_transform(y, 1.0)\n",
    "    assert np.allclose(y_t1, y - 1.0, atol=1e-12)\n",
    "    assert np.allclose(boxcox_inverse(y_t1, 1.0), y, atol=1e-12)\n",
    "\n",
    "    print(\"✅ Teste Box–Cox passou para todos os casos!\")\n",
    "\n",
    "# Rode no notebook\n",
    "test_boxcox()\n"
   ]
  },
  {
   "cell_type": "markdown",
   "id": "7207bdc5",
   "metadata": {},
   "source": [
    "\n",
    "## Análise de Resíduos — métricas e inspeções\n",
    "\n",
    "**Resíduos:** $e = y - \\hat{y}$. Propriedades desejadas (sob hipóteses clássicas): média ≈ 0, variância constante, ausência de padrão ou autocorrelação.\n",
    "\n",
    "**Métricas comuns:**\n",
    "- $\\mathrm{MSE} = \\tfrac{1}{n}\\sum e_i^2$, $\\mathrm{RMSE}=\\sqrt{\\mathrm{MSE}}$.\n",
    "- $\\mathrm{MAE} = \\tfrac{1}{n}\\sum |e_i|$.\n",
    "- **SST** $= \\sum (y_i-\\bar{y})^2$, **SSE** $= \\sum e_i^2$.\n",
    "\n",
    "Inspecione gráficos de resíduos vs. predições e histograma dos resíduos.\n"
   ]
  },
  {
   "cell_type": "markdown",
   "id": "4a767e84",
   "metadata": {},
   "source": [
    "\n",
    "### Exercício 5 — Resíduos e RMSE\n",
    "\n",
    "Implemente:\n",
    "\n",
    "`residuals_and_rmse(y, y_hat) -> (residuos, rmse)`\n",
    "\n",
    "Dicas: `np.mean`, `np.sqrt`. Não faça gráficos aqui.\n"
   ]
  },
  {
   "cell_type": "code",
   "execution_count": null,
   "id": "6fee1217",
   "metadata": {},
   "outputs": [],
   "source": [
    "\n",
    "def residuals_and_rmse(y, y_hat):\n",
    "    # Retorna\n",
    "    # -------\n",
    "    # residuos : array, shape (n,)\n",
    "    # rmse : float\n",
    "    # TODO: implemente apenas o corpo e o return\n",
    "\n",
    "    return None\n"
   ]
  },
  {
   "cell_type": "markdown",
   "id": "654e812a",
   "metadata": {},
   "source": [
    "Execute a célula abaixo para verificar se o código está correto (você verá erros até completar as funções)."
   ]
  },
  {
   "cell_type": "code",
   "execution_count": null,
   "id": "747a934a",
   "metadata": {},
   "outputs": [
    {
     "name": "stdout",
     "output_type": "stream",
     "text": [
      "Resíduos (caso 1): [ 1. -1.  0.  2. -2.]\n",
      "RMSE (caso 1): 1.4142135623730951\n",
      "Resíduos (caso 2): [0. 0. 0.]\n",
      "RMSE (caso 2): 0.0\n",
      "✅ Teste de resíduos e RMSE passou!\n"
     ]
    }
   ],
   "source": [
    "def test_residuals_and_rmse():\n",
    "    # Caso 1: resíduos conhecidos\n",
    "    y = np.array([3, 3, 3, 3, 3], dtype=float)\n",
    "    y_hat = np.array([2, 4, 3, 1, 5], dtype=float)\n",
    "    r, rmse = residuals_and_rmse(y, y_hat)\n",
    "\n",
    "    expected_r = np.array([1, -1, 0, 2, -2], dtype=float)\n",
    "    expected_rmse = np.sqrt(2.0)  # sqrt((1+1+0+4+4)/5) = sqrt(2)\n",
    "\n",
    "    print(\"Resíduos (caso 1):\", r)\n",
    "    print(\"RMSE (caso 1):\", rmse)\n",
    "\n",
    "    assert np.allclose(r, expected_r, atol=1e-12)\n",
    "    assert np.isclose(rmse, expected_rmse, atol=1e-12)\n",
    "    # Verificações equivalentes\n",
    "    assert np.isclose(rmse, np.sqrt(np.mean(r**2)), atol=1e-12)\n",
    "    assert np.isclose(rmse, np.linalg.norm(r) / np.sqrt(r.size), atol=1e-12)\n",
    "\n",
    "    # Caso 2: predição perfeita\n",
    "    y2 = np.array([1.0, 2.0, 3.0])\n",
    "    r2, rmse2 = residuals_and_rmse(y2, y2)\n",
    "\n",
    "    print(\"Resíduos (caso 2):\", r2)\n",
    "    print(\"RMSE (caso 2):\", rmse2)\n",
    "\n",
    "    assert np.allclose(r2, np.zeros_like(y2), atol=1e-12)\n",
    "    assert np.isclose(rmse2, 0.0, atol=1e-12)\n",
    "\n",
    "    print(\"✅ Teste de resíduos e RMSE passou!\")\n",
    "\n",
    "# Rode no notebook\n",
    "test_residuals_and_rmse()\n"
   ]
  },
  {
   "cell_type": "markdown",
   "id": "c5e9b44d",
   "metadata": {},
   "source": [
    "\n",
    "## Regressão Linear Multivariada — conceito e fórmulas\n",
    "\n",
    "**Modelo:** $\\mathbf{y} = \\mathbf{X}\\boldsymbol{\\beta} + \\boldsymbol{\\varepsilon}$, onde $\\mathbf{X}$ tem $p$ colunas (adicione a coluna de 1s para intercepto).\n",
    "\n",
    "**OLS:** igual ao caso vetorial — usar a **equação normal** para obter $\\hat{\\boldsymbol{\\beta}}$.\n",
    "\n",
    "**Boas práticas:** padronização dos preditores, checar multicolinearidade (ex.: correlações altas), analisar resíduos por preditor.\n"
   ]
  },
  {
   "cell_type": "markdown",
   "id": "fad02e8f",
   "metadata": {},
   "source": [
    "\n",
    "### Exercício 6 — Montar `X` com intercepto e prever\n",
    "\n",
    "Implemente duas funções:\n",
    "\n",
    "1. `add_intercept(X) -> Xb` — adiciona uma coluna de 1s à esquerda de `X` (se ainda não tiver).\n",
    "2. `predict_multi(Xb, beta) -> y_hat` — usa $\\hat{\\mathbf{y}} = \\mathbf{X}\\boldsymbol{\\beta}$.\n",
    "\n",
    "Dicas: `np.ones`, `np.column_stack`.\n"
   ]
  },
  {
   "cell_type": "code",
   "execution_count": null,
   "id": "80cd7aa2",
   "metadata": {},
   "outputs": [],
   "source": [
    "\n",
    "def add_intercept(X):\n",
    "    # Adiciona coluna de 1s à esquerda.\n",
    "    # TODO: implemente apenas o corpo e o return\n",
    "    # Faça uma verificação para não aplicar se X ja tiver 1s na primeira coluna\n",
    "\n",
    "    return None\n",
    "\n",
    "\n",
    "def predict_multi(Xb, beta):\n",
    "    # Predições via produto matricial.\n",
    "    # TODO: implemente apenas o corpo e o return\n",
    "    # A saída y_hat deve ser 1D (n,)\n",
    "\n",
    "    return None\n"
   ]
  },
  {
   "cell_type": "markdown",
   "id": "756a3198",
   "metadata": {},
   "source": [
    "Execute a célula abaixo para verificar se o código está correto (você verá erros até completar as funções)."
   ]
  },
  {
   "cell_type": "code",
   "execution_count": 61,
   "id": "fa60ea0e",
   "metadata": {},
   "outputs": [
    {
     "name": "stdout",
     "output_type": "stream",
     "text": [
      "Xb:\n",
      " [[1. 1. 2.]\n",
      " [1. 2. 0.]\n",
      " [1. 0. 1.]\n",
      " [1. 3. 4.]]\n",
      "y_hat: [ 0.5  3.   1.  -0.5]\n",
      "✅ Teste passou!\n"
     ]
    }
   ],
   "source": [
    "def test_add_intercept_predict_multi():\n",
    "    # Matriz com 2 features\n",
    "    X = np.array([[1, 2],\n",
    "                  [2, 0],\n",
    "                  [0, 1],\n",
    "                  [3, 4]], dtype=float)\n",
    "\n",
    "    # Betas verdadeiros: beta0=2, beta1=0.5, beta2=-1\n",
    "    beta_true = np.array([2.0, 0.5, -1.0])\n",
    "\n",
    "    # 1) add_intercept\n",
    "    Xb = add_intercept(X)\n",
    "    assert Xb.shape == (4, 3)\n",
    "    assert np.allclose(Xb[:, 0], 1.0)\n",
    "\n",
    "    # 2) predict_multi com beta em (p,)\n",
    "    y_hat = predict_multi(Xb, beta_true)\n",
    "    y_manual = 2.0 + 0.5*X[:, 0] - 1.0*X[:, 1]\n",
    "    assert np.allclose(y_hat, y_manual)\n",
    "\n",
    "    # 3) predict_multi aceita beta em (p,1)\n",
    "    y_hat_col = predict_multi(Xb, beta_true.reshape(-1, 1))\n",
    "    assert np.allclose(y_hat_col, y_hat)\n",
    "\n",
    "    # 4) add_intercept não duplica coluna de 1s\n",
    "    X_with_ones = np.column_stack([np.ones(X.shape[0]), X])\n",
    "    Xb2 = add_intercept(X_with_ones)\n",
    "    assert Xb2.shape == X_with_ones.shape\n",
    "    assert np.allclose(Xb2, X_with_ones)\n",
    "\n",
    "    print(\"Xb:\\n\", Xb)\n",
    "    print(\"y_hat:\", y_hat)\n",
    "    print(\"✅ Teste passou!\")\n",
    "\n",
    "# Rode no notebook\n",
    "test_add_intercept_predict_multi()\n"
   ]
  },
  {
   "cell_type": "markdown",
   "id": "928d3576",
   "metadata": {},
   "source": [
    "\n",
    "## Correlação e $R^2$\n",
    "\n",
    "**Correlação de Pearson (entre dois vetores $a, b$):**\n",
    "$$\n",
    "r = \\frac{\\sum (a_i-\\bar{a})(b_i-\\bar{b})}{\\sqrt{\\sum (a_i-\\bar{a})^2}\\,\\sqrt{\\sum (b_i-\\bar{b})^2}}.\n",
    "$$\n",
    "\n",
    "**Coeficiente de determinação:**\n",
    "$$\n",
    "R^2 \\;=\\; 1 - \\frac{\\mathrm{SSE}}{\\mathrm{SST}}\n",
    "\\;=\\;\n",
    "1 - \\frac{\\sum (y_i - \\hat{y}_i)^2}{\\sum (y_i - \\bar{y})^2}.\n",
    "$$\n",
    "Interpretação: fração da variabilidade de $y$ explicada pelo modelo (entre 0 e 1 em OLS com intercepto).\n"
   ]
  },
  {
   "cell_type": "markdown",
   "id": "d70aca77",
   "metadata": {},
   "source": [
    "\n",
    "### Exercício 7 — Calcule \\(R^2\\) e correlação\n",
    "\n",
    "Implemente:\n",
    "\n",
    "1. `r2_score(y, y_hat) -> r2`\n",
    "2. `pearson_r(a, b) -> r`\n",
    "\n",
    "Dicas: `np.mean`, `np.sum`, `np.sqrt`. (Evite usar `np.corrcoef` para praticar a fórmula.)\n"
   ]
  },
  {
   "cell_type": "code",
   "execution_count": null,
   "id": "cb388d76",
   "metadata": {},
   "outputs": [],
   "source": [
    "\n",
    "def r2_score(y, y_hat):\n",
    "    # Retorna\n",
    "    # -------\n",
    "    # r2 : float\n",
    "    # TODO: implemente apenas o corpo e o return\n",
    "\n",
    "    return None\n",
    "\n",
    "\n",
    "def pearson_r(a, b):\n",
    "    # Retorna\n",
    "    # -------\n",
    "    # r : float\n",
    "    # TODO: implemente apenas o corpo e o return\n",
    "\n",
    "    return None\n"
   ]
  },
  {
   "cell_type": "markdown",
   "id": "b8e30392",
   "metadata": {},
   "source": [
    "Execute a célula abaixo para verificar se o código está correto (você verá erros até completar as funções)."
   ]
  },
  {
   "cell_type": "code",
   "execution_count": 65,
   "id": "914e2bde",
   "metadata": {},
   "outputs": [
    {
     "name": "stdout",
     "output_type": "stream",
     "text": [
      "R²: 0.6000000000000001\n",
      "r(x,y): 0.7745966692414834\n",
      "✅ Testes de R² e correlação passaram!\n"
     ]
    }
   ],
   "source": [
    "def test_r2_and_pearson():\n",
    "    # Dados base\n",
    "    x = np.array([1, 2, 3, 4, 5], dtype=float)\n",
    "    y = np.array([2, 4, 5, 4, 5], dtype=float)\n",
    "\n",
    "    # Ajuste OLS fechado (para construir y_hat)\n",
    "    xm, ym = x.mean(), y.mean()\n",
    "    beta1 = np.sum((x - xm)*(y - ym)) / np.sum((x - xm)**2)\n",
    "    beta0 = ym - beta1 * xm\n",
    "    y_hat = beta0 + beta1 * x\n",
    "\n",
    "    # 1) R² esperado (~0.6)\n",
    "    r2 = r2_score(y, y_hat)\n",
    "    print(\"R²:\", r2)\n",
    "    assert np.isclose(r2, 0.6, atol=1e-12)\n",
    "\n",
    "    # 2) Correlação de Pearson entre x e y; checa identidade R² = r^2 (OLS com intercepto)\n",
    "    r_xy = pearson_r(x, y)\n",
    "    print(\"r(x,y):\", r_xy)\n",
    "    assert np.isclose(r_xy**2, r2, atol=1e-12)\n",
    "\n",
    "    # 3) Predição perfeita -> R² = 1\n",
    "    assert np.isclose(r2_score(y, y), 1.0, atol=1e-12)\n",
    "\n",
    "    # 4) Predizer a média -> R² = 0\n",
    "    y_mean = np.full_like(y, y.mean())\n",
    "    assert np.isclose(r2_score(y, y_mean), 0.0, atol=1e-12)\n",
    "\n",
    "    # 5) Pearson: casos canônicos\n",
    "    a = np.array([1, 2, 3], float)\n",
    "    b = np.array([1, 2, 3], float)\n",
    "    c = np.array([3, 2, 1], float)\n",
    "    assert np.isclose(pearson_r(a, b),  1.0, atol=1e-12)\n",
    "    assert np.isclose(pearson_r(a, c), -1.0, atol=1e-12)\n",
    "\n",
    "    # 6) Invariância: escalas/shift não mudam R² (com a mesma transformação em y_hat)\n",
    "    ys = 10*y + 5\n",
    "    y_hats = 10*y_hat + 5\n",
    "    assert np.isclose(r2_score(ys, y_hats), r2, atol=1e-12)\n",
    "\n",
    "    # 7) Pearson: shift não altera r; escala positiva mantém sinal; escala negativa inverte\n",
    "    assert np.isclose(pearson_r(a+5, b+10), 1.0, atol=1e-12)\n",
    "    assert np.isclose(pearson_r(2*a, 3*b), 1.0, atol=1e-12)\n",
    "    assert np.isclose(pearson_r(-2*a, 3*b), -1.0, atol=1e-12)\n",
    "\n",
    "    print(\"✅ Testes de R² e correlação passaram!\")\n",
    "\n",
    "# Rode no notebook\n",
    "test_r2_and_pearson()\n"
   ]
  },
  {
   "cell_type": "markdown",
   "id": "78b329cb",
   "metadata": {},
   "source": [
    "\n",
    "## (Referência rápida) Implementações básicas com NumPy\n",
    "\n",
    "Abaixo ficam apenas **exemplos mínimos** (já prontos) de operações que você pode usar nos exercícios.\n",
    "Sinta-se à vontade para ignorar este bloco se já domina NumPy.\n"
   ]
  },
  {
   "cell_type": "code",
   "execution_count": null,
   "id": "f048e583",
   "metadata": {},
   "outputs": [],
   "source": [
    "\n",
    "import numpy as np\n",
    "\n",
    "# Exemplos de operações básicas (apenas para referência)\n",
    "a = np.array([1.0, 2.0, 3.0])\n",
    "b = np.array([4.0, 5.0, 6.0])\n",
    "_A = a.mean()\n",
    "_B = ((a - a.mean()) * (b - b.mean())).sum()  # covariância não normalizada\n",
    "_C = (a - a.mean()) @ (a - a.mean())          # soma de quadrados\n",
    "_D = np.column_stack([np.ones(a.shape[0]), a]) # adiciona intercepto\n",
    "# (Não imprimir nada; variáveis com underscore são só para evitar \"variável não usada\")\n"
   ]
  },
  {
   "cell_type": "markdown",
   "id": "63fde9b8",
   "metadata": {},
   "source": [
    "\n",
    "## Funções de visualização (matplotlib)\n",
    "\n",
    "> Você **não** precisa escrever gráficos. Basta implementar as funções pedidas nos exercícios.  \n",
    "> Aqui estão funções de plot prontas para você usar ao final.\n"
   ]
  },
  {
   "cell_type": "code",
   "execution_count": 66,
   "id": "48e2a3fb",
   "metadata": {},
   "outputs": [],
   "source": [
    "\n",
    "import matplotlib.pyplot as plt\n",
    "import numpy as np\n",
    "\n",
    "def plot_simple_regression(x, y, beta0, beta1, title=\"Regressão Linear Simples\"):\n",
    "    plt.figure()\n",
    "    plt.scatter(x, y)\n",
    "    x_line = np.linspace(np.min(x), np.max(x), 100)\n",
    "    y_line = beta0 + beta1 * x_line\n",
    "    plt.plot(x_line, y_line)\n",
    "    plt.title(title)\n",
    "    plt.xlabel(\"x\")\n",
    "    plt.ylabel(\"y\")\n",
    "    plt.show()\n",
    "\n",
    "\n",
    "def plot_residuals_vs_x(x, residuos, title=\"Resíduos vs x\"):\n",
    "    plt.figure()\n",
    "    plt.scatter(x, residuos)\n",
    "    plt.axhline(0)\n",
    "    plt.title(title)\n",
    "    plt.xlabel(\"x\")\n",
    "    plt.ylabel(\"resíduo\")\n",
    "    plt.show()\n",
    "\n",
    "\n",
    "def plot_fitted_vs_true(y, y_hat, title=\"y verdadeiro vs y predito\"):\n",
    "    plt.figure()\n",
    "    plt.scatter(y, y_hat)\n",
    "    plt.plot([np.min(y), np.max(y)], [np.min(y), np.max(y)])\n",
    "    plt.title(title)\n",
    "    plt.xlabel(\"y verdadeiro\")\n",
    "    plt.ylabel(\"y predito\")\n",
    "    plt.show()\n",
    "\n",
    "\n",
    "def plot_hist_residuals(residuos, title=\"Histograma dos resíduos\"):\n",
    "    plt.figure()\n",
    "    plt.hist(residuos, bins=20)\n",
    "    plt.title(title)\n",
    "    plt.xlabel(\"resíduo\")\n",
    "    plt.ylabel(\"freq.\")\n",
    "    plt.show()\n"
   ]
  },
  {
   "cell_type": "markdown",
   "id": "960ebc1f",
   "metadata": {},
   "source": [
    "\n",
    "## Exemplos de uso (dados sintéticos) — rode **depois** de implementar as funções\n",
    "\n",
    "Este bloco gera dados simples, chama **as suas funções** e exibe gráficos.\n",
    "Se alguma função ainda não estiver implementada, você verá um `NotImplementedError` — finalize os exercícios e rode de novo.\n"
   ]
  },
  {
   "cell_type": "code",
   "execution_count": 69,
   "id": "d0022077",
   "metadata": {},
   "outputs": [
    {
     "name": "stdout",
     "output_type": "stream",
     "text": [
      "Simples — beta0=1.798, beta1=1.525, RMSE=0.919, R2=0.959\n"
     ]
    },
    {
     "data": {
      "image/png": "[encoded data removed]",
      "text/plain": [
       "<Figure size 640x480 with 1 Axes>"
      ]
     },
     "metadata": {},
     "output_type": "display_data"
    },
    {
     "data": {
      "image/png": "[encoded data removed]",
      "text/plain": [
       "<Figure size 640x480 with 1 Axes>"
      ]
     },
     "metadata": {},
     "output_type": "display_data"
    },
    {
     "data": {
      "image/png": "[encoded data removed]",
      "text/plain": [
       "<Figure size 640x480 with 1 Axes>"
      ]
     },
     "metadata": {},
     "output_type": "display_data"
    },
    {
     "data": {
      "image/png": "[encoded data removed]",
      "text/plain": [
       "<Figure size 640x480 with 1 Axes>"
      ]
     },
     "metadata": {},
     "output_type": "display_data"
    },
    {
     "name": "stdout",
     "output_type": "stream",
     "text": [
      "GD — beta0=1.798, beta1=1.525, RMSE=0.919\n"
     ]
    },
    {
     "data": {
      "image/png": "[encoded data removed]",
      "text/plain": [
       "<Figure size 640x480 with 1 Axes>"
      ]
     },
     "metadata": {},
     "output_type": "display_data"
    },
    {
     "name": "stdout",
     "output_type": "stream",
     "text": [
      "Box–Cox (no y transformado) — RMSE transformado=0.549\n",
      "Multivariada — beta_hat=[ 2.01557873  1.49720219 -0.56379712], RMSE=1.079, R2=0.943\n"
     ]
    }
   ],
   "source": [
    "\n",
    "import numpy as np\n",
    "\n",
    "# 1) Dados sintéticos para regressão simples\n",
    "np.random.seed(42)\n",
    "n = 120\n",
    "x = np.linspace(0, 10, n)\n",
    "y_true = 2.0 + 1.5 * x\n",
    "y = y_true + np.random.normal(0, 1.0, size=n)\n",
    "\n",
    "# Ajuste por fórmulas fechadas\n",
    "beta0, beta1 = fit_simple_linear_regression(x, y)\n",
    "y_hat = predict_simple(x, beta0, beta1)\n",
    "\n",
    "# Métricas/resíduos\n",
    "residuos, rmse = residuals_and_rmse(y, y_hat)\n",
    "r2 = r2_score(y, y_hat)\n",
    "\n",
    "print(f\"Simples — beta0={beta0:.3f}, beta1={beta1:.3f}, RMSE={rmse:.3f}, R2={r2:.3f}\")\n",
    "\n",
    "# Visualizações\n",
    "plot_simple_regression(x, y, beta0, beta1, title=\"Simples: ajuste por fórmulas fechadas\")\n",
    "plot_residuals_vs_x(x, residuos, title=\"Simples: resíduos vs x\")\n",
    "plot_fitted_vs_true(y, y_hat, title=\"Simples: y verdadeiro vs predito\")\n",
    "plot_hist_residuals(residuos, title=\"Simples: histograma dos resíduos\")\n",
    "\n",
    "# 2) Teste com Gradiente Descendente (mesmos dados)\n",
    "beta0_gd, beta1_gd, hist = gradient_descent_simple(x, y, alpha=0.01, n_iters=2000)\n",
    "y_hat_gd = predict_simple(x, beta0_gd, beta1_gd)\n",
    "res_gd, rmse_gd = residuals_and_rmse(y, y_hat_gd)\n",
    "print(f\"GD — beta0={beta0_gd:.3f}, beta1={beta1_gd:.3f}, RMSE={rmse_gd:.3f}\")\n",
    "\n",
    "plot_simple_regression(x, y, beta0_gd, beta1_gd, title=\"Simples: ajuste por Gradiente Descendente\")\n",
    "\n",
    "# 3) Box–Cox rápido (aplica em y e re-ajusta por fórmulas fechadas)\n",
    "#    (Atenção: use apenas se y > 0. Aqui criamos um y positivo artificialmente.)\n",
    "y_pos = y - np.min(y) + 1e-3\n",
    "lam = 0.3\n",
    "y_bc = boxcox_transform(y_pos, lam)\n",
    "b0_bc, b1_bc = fit_simple_linear_regression(x, y_bc)\n",
    "y_bc_hat = predict_simple(x, b0_bc, b1_bc)\n",
    "# Inverte para o espaço original só para inspecionar (não é igual a ajustar direto)\n",
    "y_bc_hat_inv = boxcox_inverse(y_bc_hat, lam)\n",
    "\n",
    "res_bc, rmse_bc = residuals_and_rmse(y_bc, predict_simple(x, b0_bc, b1_bc))\n",
    "print(f\"Box–Cox (no y transformado) — RMSE transformado={rmse_bc:.3f}\")\n",
    "\n",
    "# 4) Multivariada (2 preditores sintéticos)\n",
    "z = np.random.randn(n)\n",
    "X = np.column_stack([x, z])\n",
    "beta_true = np.array([2.0, 1.5, -0.7])  # intercepto, coef_x, coef_z\n",
    "Xb = add_intercept(X)\n",
    "noise = np.random.normal(0, 1.2, size=n)\n",
    "y_multi = Xb @ beta_true + noise\n",
    "\n",
    "beta_hat = normal_equation(Xb, y_multi, use_pinv=False)\n",
    "y_multi_hat = predict_multi(Xb, beta_hat)\n",
    "res_m, rmse_m = residuals_and_rmse(y_multi, y_multi_hat)\n",
    "r2_m = r2_score(y_multi, y_multi_hat)\n",
    "\n",
    "print(f\"Multivariada — beta_hat={beta_hat}, RMSE={rmse_m:.3f}, R2={r2_m:.3f}\")\n"
   ]
  }
 ],
 "metadata": {
  "kernelspec": {
   "display_name": "pibic_env",
   "language": "python",
   "name": "python3"
  },
  "language_info": {
   "codemirror_mode": {
    "name": "ipython",
    "version": 3
   },
   "file_extension": ".py",
   "mimetype": "text/x-python",
   "name": "python",
   "nbconvert_exporter": "python",
   "pygments_lexer": "ipython3",
   "version": "3.10.16"
  }
 },
 "nbformat": 4,
 "nbformat_minor": 5
}
